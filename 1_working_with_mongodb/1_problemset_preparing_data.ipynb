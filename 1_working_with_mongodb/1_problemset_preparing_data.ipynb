{
 "cells": [
  {
   "cell_type": "code",
   "execution_count": 32,
   "metadata": {
    "collapsed": true
   },
   "outputs": [],
   "source": [
    "\"\"\"\n",
    "In this problem set you work with another type of infobox data, audit it,\n",
    "clean it, come up with a data model, insert it into MongoDB and then run some\n",
    "queries against your database. The set contains data about Arachnid class\n",
    "animals.\n",
    "\n",
    "Your task in this exercise is to parse the file, process only the fields that\n",
    "are listed in the FIELDS dictionary as keys, and return a list of dictionaries\n",
    "of cleaned values. \n",
    "\n",
    "The following things should be done:\n",
    "- keys of the dictionary changed according to the mapping in FIELDS dictionary\n",
    "- trim out redundant description in parenthesis from the 'rdf-schema#label'\n",
    "  field, like \"(spider)\"\n",
    "- if 'name' is \"NULL\" or contains non-alphanumeric characters, set it to the\n",
    "  same value as 'label'.\n",
    "- if a value of a field is \"NULL\", convert it to None\n",
    "- if there is a value in 'synonym', it should be converted to an array (list)\n",
    "  by stripping the \"{}\" characters and splitting the string on \"|\". Rest of the\n",
    "  cleanup is up to you, e.g. removing \"*\" prefixes etc. If there is a singular\n",
    "  synonym, the value should still be formatted in a list.\n",
    "- strip leading and ending whitespace from all fields, if there is any\n",
    "- the output structure should be as follows:\n",
    "\n",
    "[ { 'label': 'Argiope',\n",
    "    'uri': 'http://dbpedia.org/resource/Argiope_(spider)',\n",
    "    'description': 'The genus Argiope includes rather large and spectacular spiders that often ...',\n",
    "    'name': 'Argiope',\n",
    "    'synonym': [\"One\", \"Two\"],\n",
    "    'classification': {\n",
    "                      'family': 'Orb-weaver spider',\n",
    "                      'class': 'Arachnid',\n",
    "                      'phylum': 'Arthropod',\n",
    "                      'order': 'Spider',\n",
    "                      'kingdom': 'Animal',\n",
    "                      'genus': None\n",
    "                      }\n",
    "  },\n",
    "  { 'label': ... , }, ...\n",
    "]\n",
    "\n",
    "  * Note that the value associated with the classification key is a dictionary\n",
    "    with taxonomic labels.\n",
    "\"\"\"\n",
    "import codecs\n",
    "import csv\n",
    "import json\n",
    "import pprint\n",
    "import re"
   ]
  },
  {
   "cell_type": "code",
   "execution_count": 33,
   "metadata": {
    "collapsed": true
   },
   "outputs": [],
   "source": [
    "filename = \"../ud032-master/Lesson_4_Problem_Set/01-Preparing_Data/arachnid.csv\""
   ]
  },
  {
   "cell_type": "code",
   "execution_count": 34,
   "metadata": {
    "collapsed": true
   },
   "outputs": [],
   "source": [
    "fields = {'rdf-schema#label': 'label',\n",
    "         'URI': 'uri',\n",
    "         'rdf-schema#comment': 'description',\n",
    "         'synonym': 'synonym',\n",
    "         'name': 'name',\n",
    "         'family_label': 'family',\n",
    "         'class_label': 'class',\n",
    "         'phylum_label': 'phylum',\n",
    "         'order_label': 'order',\n",
    "         'kingdom_label': 'kingdom',\n",
    "         'genus_label': 'genus'}"
   ]
  },
  {
   "cell_type": "code",
   "execution_count": 38,
   "metadata": {
    "collapsed": false
   },
   "outputs": [],
   "source": [
    "def process_file(filename, fields):\n",
    "    process_fields = fields.keys()\n",
    "    data = []\n",
    "    with open(filename, \"r\") as f:\n",
    "        reader = csv.DictReader(f)\n",
    "        for i in range(3):\n",
    "            l = reader.next()\n",
    "        for line in reader:\n",
    "            for key in process_fields:\n",
    "                line[fields[key]] = line[key]\n",
    "            if \"label\" in line:\n",
    "#                line[\"label\"] = line[\"label\"].strip(\"(spider)\").strip(\"(mites)\").strip()\n",
    "                labelRegex = re.compile(r'\\w+\\-?\\w+\\s?\\w+\\s?\\w+')\n",
    "                line[\"label\"] = labelRegex.search(line[\"label\"]).group()\n",
    "            if \"name\" in line:\n",
    "                if line[\"name\"] == 'NULL':\n",
    "                    line[\"name\"] = line[\"label\"]\n",
    "                else:\n",
    "                    nameRegex = re.compile(r'\\w+\\s?\\w+')\n",
    "                    line[\"name\"] = nameRegex.search(line[\"name\"]).group()\n",
    "            if \"synonym\" in line:\n",
    "                if line[\"synonym\"] == 'NULL':\n",
    "                    line['synonym'] = None\n",
    "                else:\n",
    "                    synonymRegex = re.compile(r'\\w+\\.?\\s?\\(?\\w+\\)?\\s?\\&?\\s?\\w+\\s?\\(?\\w+\\s?\\w+\\)?')\n",
    "                    line[\"synonym\"] = synonymRegex.findall(line[\"synonym\"])\n",
    "            for item in [\"family\", \"class\", \"phylum\", \"order\", \"kingdom\", \"genus\"]:\n",
    "                if line[item] == \"NULL\":\n",
    "                    line[item] = None\n",
    "            newline = {\"label\": line[\"label\"], \n",
    "                       \"uri\": line[\"uri\"],\n",
    "                       \"description\": line[\"description\"],\n",
    "                       \"name\": line[\"name\"]  ,\n",
    "                       \"synonym\": line[\"synonym\"],\n",
    "                       \"classification\": {\"family\": line[\"family\"],\n",
    "                                          \"class\": line[\"class\"],\n",
    "                                          \"phylum\": line[\"phylum\"],\n",
    "                                          \"order\": line[\"order\"],\n",
    "                                          \"kingdom\": line[\"kingdom\"],\n",
    "                                          \"genus\": line[\"genus\"]}\n",
    "                       }\n",
    "            data.append(newline)\n",
    "                        \n",
    "    return data"
   ]
  },
  {
   "cell_type": "code",
   "execution_count": 39,
   "metadata": {
    "collapsed": false
   },
   "outputs": [],
   "source": [
    "data = process_file(filename, fields)"
   ]
  },
  {
   "cell_type": "code",
   "execution_count": 40,
   "metadata": {
    "collapsed": false
   },
   "outputs": [
    {
     "name": "stdout",
     "output_type": "stream",
     "text": [
      "{'classification': {'class': '{Acari|Arachnid}',\n",
      "                    'family': None,\n",
      "                    'genus': None,\n",
      "                    'kingdom': 'Animal',\n",
      "                    'order': '{Prostigmata|Trombidiformes}',\n",
      "                    'phylum': 'Arthropod'},\n",
      " 'description': 'Hydrachnidiae are a group of mites containing over 5000 species found in freshwater habitat.',\n",
      " 'label': 'Hydrachnidiae',\n",
      " 'name': 'Hydrachnidiae',\n",
      " 'synonym': ['Hydracarina', 'Hydrachnellae', 'Hydrachnidia'],\n",
      " 'uri': 'http://dbpedia.org/resource/Hydrachnidiae'}\n"
     ]
    }
   ],
   "source": [
    "pprint.pprint(data[48])"
   ]
  },
  {
   "cell_type": "code",
   "execution_count": null,
   "metadata": {
    "collapsed": true
   },
   "outputs": [],
   "source": []
  },
  {
   "cell_type": "code",
   "execution_count": null,
   "metadata": {
    "collapsed": true
   },
   "outputs": [],
   "source": []
  },
  {
   "cell_type": "code",
   "execution_count": null,
   "metadata": {
    "collapsed": true
   },
   "outputs": [],
   "source": []
  },
  {
   "cell_type": "code",
   "execution_count": null,
   "metadata": {
    "collapsed": true
   },
   "outputs": [],
   "source": []
  },
  {
   "cell_type": "code",
   "execution_count": null,
   "metadata": {
    "collapsed": true
   },
   "outputs": [],
   "source": []
  },
  {
   "cell_type": "code",
   "execution_count": null,
   "metadata": {
    "collapsed": true
   },
   "outputs": [],
   "source": []
  },
  {
   "cell_type": "code",
   "execution_count": null,
   "metadata": {
    "collapsed": true
   },
   "outputs": [],
   "source": []
  },
  {
   "cell_type": "code",
   "execution_count": null,
   "metadata": {
    "collapsed": true
   },
   "outputs": [],
   "source": []
  },
  {
   "cell_type": "code",
   "execution_count": null,
   "metadata": {
    "collapsed": true
   },
   "outputs": [],
   "source": []
  },
  {
   "cell_type": "code",
   "execution_count": null,
   "metadata": {
    "collapsed": true
   },
   "outputs": [],
   "source": []
  },
  {
   "cell_type": "code",
   "execution_count": null,
   "metadata": {
    "collapsed": true
   },
   "outputs": [],
   "source": []
  },
  {
   "cell_type": "code",
   "execution_count": null,
   "metadata": {
    "collapsed": true
   },
   "outputs": [],
   "source": []
  },
  {
   "cell_type": "code",
   "execution_count": null,
   "metadata": {
    "collapsed": true
   },
   "outputs": [],
   "source": []
  },
  {
   "cell_type": "code",
   "execution_count": null,
   "metadata": {
    "collapsed": true
   },
   "outputs": [],
   "source": []
  },
  {
   "cell_type": "code",
   "execution_count": null,
   "metadata": {
    "collapsed": true
   },
   "outputs": [],
   "source": []
  },
  {
   "cell_type": "code",
   "execution_count": null,
   "metadata": {
    "collapsed": true
   },
   "outputs": [],
   "source": []
  },
  {
   "cell_type": "code",
   "execution_count": null,
   "metadata": {
    "collapsed": true
   },
   "outputs": [],
   "source": []
  },
  {
   "cell_type": "code",
   "execution_count": null,
   "metadata": {
    "collapsed": true
   },
   "outputs": [],
   "source": []
  },
  {
   "cell_type": "markdown",
   "metadata": {
    "collapsed": true
   },
   "source": [
    "###### Doodles below:"
   ]
  },
  {
   "cell_type": "code",
   "execution_count": 15,
   "metadata": {
    "collapsed": false
   },
   "outputs": [
    {
     "name": "stdout",
     "output_type": "stream",
     "text": [
      "None\n",
      "None\n",
      "None\n",
      "None\n",
      "None\n",
      "None\n",
      "None\n",
      "None\n",
      "None\n",
      "None\n",
      "None\n",
      "None\n",
      "None\n",
      "None\n",
      "['Cyrene Peckham & Peckham']\n",
      "None\n",
      "None\n",
      "['Rooseveltia mutilla']\n",
      "None\n",
      "None\n",
      "None\n",
      "None\n",
      "None\n",
      "None\n",
      "None\n",
      "None\n",
      "None\n",
      "None\n",
      "None\n",
      "None\n",
      "None\n",
      "None\n",
      "None\n",
      "None\n",
      "None\n",
      "None\n",
      "None\n",
      "None\n",
      "None\n",
      "None\n",
      "None\n",
      "None\n",
      "None\n",
      "None\n",
      "None\n",
      "None\n",
      "None\n",
      "None\n",
      "['Hydracarina', 'Hydrachnellae', 'Hydrachnidia']\n",
      "None\n",
      "None\n",
      "None\n",
      "None\n",
      "None\n",
      "None\n",
      "None\n",
      "None\n",
      "['H. tamulus concanensis (Pocock 1900)', 'H. tamulus gangeticus (Pocock 1900)', 'H. tamulus gujaratensis (Pocock 1900)', 'H. tamulus sindicus (Pocock 1900)']\n",
      "None\n",
      "None\n",
      "None\n",
      "['Zealanapis australis (Forster 1951)', 'Platnick & Forster 1989', 'Chasmocephalon australis Forster 1951']\n",
      "None\n",
      "['Heterometrus (Chersonesometrus) Couzijn 1978', 'Heterometrus (Gigantometrus) Couzijn 1978', 'Heterometrus (Javanimetrus) Couzijn 1981', 'Heterometrus (Srilankametrus) Couzijn 1981', 'Palamnaeus Thorell 1876']\n",
      "None\n",
      "None\n",
      "None\n",
      "None\n",
      "None\n",
      "None\n",
      "None\n",
      "None\n",
      "None\n",
      "None\n",
      "None\n",
      "None\n"
     ]
    }
   ],
   "source": [
    "with open(filename, \"r\") as f:\n",
    "    reader = csv.DictReader(f)\n",
    "    for i in range(3):\n",
    "        l = reader.next()\n",
    "    for line in reader:\n",
    "        if \"synonym\" in line:\n",
    "            if line[\"synonym\"] == 'NULL':\n",
    "                line['synonym'] = None\n",
    "            else:\n",
    "                synonymRegex = re.compile(r'\\w+\\.?\\s?\\(?\\w+\\)?\\s?\\&?\\s?\\w+\\s?\\(?\\w+\\s?\\w+\\)?')\n",
    "                line[\"synonym\"] = synonymRegex.findall(line[\"synonym\"])\n",
    "            print line[\"synonym\"]"
   ]
  },
  {
   "cell_type": "code",
   "execution_count": null,
   "metadata": {
    "collapsed": false
   },
   "outputs": [],
   "source": [
    "with open(filename, \"r\") as f:\n",
    "    reader = csv.DictReader(f)\n",
    "    for i in range(3):\n",
    "        l = reader.next()\n",
    "    for line in reader:\n",
    "        if \"name\" in line:\n",
    "            if line[\"name\"] == 'NULL':\n",
    "                line[\"name\"] = None\n",
    "            else:\n",
    "                nameRegex = re.compile(r'\\w+\\s?\\w+')\n",
    "                line[\"name\"] = nameRegex.search(line[\"name\"]).group()\n",
    "            print line[\"name\"]"
   ]
  },
  {
   "cell_type": "code",
   "execution_count": null,
   "metadata": {
    "collapsed": false
   },
   "outputs": [],
   "source": [
    "with open(filename, \"r\") as f:\n",
    "    reader = csv.DictReader(f)\n",
    "    for i in range(3):\n",
    "        l = reader.next()\n",
    "    for line in reader:\n",
    "        for key in process_fields:\n",
    "            line[fields[key]] = line[key]\n",
    "            del line[key]\n",
    "        \n",
    "        data.append(line)"
   ]
  },
  {
   "cell_type": "code",
   "execution_count": null,
   "metadata": {
    "collapsed": true
   },
   "outputs": [],
   "source": [
    "data = []"
   ]
  },
  {
   "cell_type": "code",
   "execution_count": 5,
   "metadata": {
    "collapsed": true
   },
   "outputs": [],
   "source": [
    "process_fields = fields.keys()"
   ]
  },
  {
   "cell_type": "code",
   "execution_count": 28,
   "metadata": {
    "collapsed": false
   },
   "outputs": [
    {
     "name": "stdout",
     "output_type": "stream",
     "text": [
      "Argiope (spider)\n",
      "Argiope\n",
      "Tick\n",
      "Tick\n",
      "Pseudoscorpion\n",
      "Pseudoscorpion\n",
      "Amblypygi\n",
      "Amblypygi\n",
      "Schizomida\n",
      "Schizomida\n",
      "Opiliones\n",
      "Opiliones\n",
      "Neaetha\n",
      "Neaetha\n",
      "Nebridia\n",
      "Nebridia\n",
      "Neobrettus\n",
      "Neobrettus\n",
      "Neonella\n",
      "Neonella\n",
      "Neon (spider)\n",
      "Neon\n",
      "Nimbarus\n",
      "Nimbarus\n",
      "Noegus\n",
      "Noegus\n",
      "Nosferattus\n",
      "Nosferattus\n",
      "Nycerella\n",
      "Nycerella\n",
      "Ocnotelus\n",
      "Ocnotelus\n",
      "Ocrisiona\n",
      "Ocrisiona\n",
      "Ogdenia\n",
      "Ogdenia\n",
      "Omoedus\n",
      "Omoedus\n",
      "Onomastus\n",
      "Onomastus\n",
      "Opisthoncana\n",
      "Opisthoncana\n",
      "Opisthoncus\n",
      "Opisthoncus\n",
      "Orissania\n",
      "Orissania\n",
      "Orsima\n",
      "Orsima\n",
      "Orvilleus\n",
      "Orvilleus\n",
      "Orthrus (spider)\n",
      "Orthrus\n",
      "Apopyllus\n",
      "Apopyllus\n",
      "Galeodes\n",
      "Galeodes\n",
      "Liponyssoides sanguineus\n",
      "Liponyssoides sanguineus\n",
      "Sarcoptidae\n",
      "Sarcoptidae\n",
      "Pyroglyphidae\n",
      "Pyroglyphidae\n",
      "Psoroptidae\n",
      "Psoroptidae\n",
      "Argas\n",
      "Argas\n",
      "Trombidiformes\n",
      "Trombidiformes\n",
      "Sarcoptiformes\n",
      "Sarcoptiformes\n",
      "Haemaphysalis\n",
      "Haemaphysalis\n",
      "Anystis\n",
      "Anystis\n",
      "Eupodes\n",
      "Eupodes\n",
      "Eleutherengonides\n",
      "Eleutherengonides\n",
      "Parasitengona\n",
      "Parasitengona\n",
      "Opilioacarus\n",
      "Opilioacarus\n",
      "Parasitus\n",
      "Parasitus\n",
      "Heterostigmatina\n",
      "Heterostigmatina\n",
      "Abacarus\n",
      "Abacarus\n",
      "Androlaelaps\n",
      "Androlaelaps\n",
      "Eriophyes\n",
      "Eriophyes\n",
      "Bdelloidea (mites)\n",
      "Bdelloidea\n",
      "Bdellodes\n",
      "Bdellodes\n",
      "Hydrachnidiae\n",
      "Hydrachnidiae\n",
      "Holothyrus\n",
      "Holothyrus\n",
      "Calyptostoma\n",
      "Calyptostoma\n",
      "Alycus\n",
      "Alycus\n",
      "Tyrophagus\n",
      "Tyrophagus\n",
      "Histiostoma\n",
      "Histiostoma\n",
      "Sarcoptoidea\n",
      "Sarcoptoidea\n",
      "Macronyssidae\n",
      "Macronyssidae\n",
      "Laelapidae\n",
      "Laelapidae\n",
      "Hottentotta tamulus\n",
      "Hottentotta tamulus\n",
      "Ananteris sabineae\n",
      "Ananteris sabineae\n",
      "Six-spotted fishing spider\n",
      "Six-spotted fishing spider\n",
      "Zealanapis\n",
      "Zealanapis\n",
      "Zealanapis australis\n",
      "Zealanapis australis\n",
      "Ananteris pydanieli\n",
      "Ananteris pydanieli\n",
      "Heterometrus\n",
      "Heterometrus\n",
      "Acantholycosa\n",
      "Acantholycosa\n",
      "Scoloderus\n",
      "Scoloderus\n",
      "Sinolaelaps\n",
      "Sinolaelaps\n",
      "Sphaeroseius\n",
      "Sphaeroseius\n",
      "Stamfordia\n",
      "Stamfordia\n",
      "Steptolaelaps\n",
      "Steptolaelaps\n",
      "Sternolaelaps\n",
      "Sternolaelaps\n",
      "Stevelus\n",
      "Stevelus\n",
      "Stigmatolaelaps\n",
      "Stigmatolaelaps\n",
      "Stratiolaelaps\n",
      "Stratiolaelaps\n",
      "Tengilaelaps\n",
      "Tengilaelaps\n",
      "Tricholaelaps\n",
      "Tricholaelaps\n"
     ]
    }
   ],
   "source": [
    "with open(filename, \"r\") as f:\n",
    "    reader = csv.DictReader(f)\n",
    "    for i in range(3):\n",
    "        l = reader.next()\n",
    "    for line in reader:\n",
    "        for key in process_fields:\n",
    "            line[fields[key]] = line[key]\n",
    "        if \"label\" in line:\n",
    "            print line[\"label\"]\n",
    "            labelRegex = re.compile(r'\\w+\\-?\\w+\\s?\\w+\\s?\\w+')\n",
    "            line[\"label\"] = labelRegex.search(line[\"label\"]).group()\n",
    "            print line[\"label\"]"
   ]
  },
  {
   "cell_type": "code",
   "execution_count": null,
   "metadata": {
    "collapsed": false
   },
   "outputs": [],
   "source": [
    "data[1]"
   ]
  },
  {
   "cell_type": "code",
   "execution_count": 29,
   "metadata": {
    "collapsed": true
   },
   "outputs": [],
   "source": [
    "labelRegex = re.compile(r'\\w+\\-?\\w+\\s?\\w+\\s?\\w+')"
   ]
  },
  {
   "cell_type": "code",
   "execution_count": 31,
   "metadata": {
    "collapsed": false
   },
   "outputs": [
    {
     "name": "stdout",
     "output_type": "stream",
     "text": [
      "4\n"
     ]
    }
   ],
   "source": [
    "print len(labelRegex.search(\"Neon (spider)\").group())"
   ]
  },
  {
   "cell_type": "code",
   "execution_count": null,
   "metadata": {
    "collapsed": true
   },
   "outputs": [],
   "source": []
  }
 ],
 "metadata": {
  "kernelspec": {
   "display_name": "Python 2",
   "language": "python",
   "name": "python2"
  },
  "language_info": {
   "codemirror_mode": {
    "name": "ipython",
    "version": 2
   },
   "file_extension": ".py",
   "mimetype": "text/x-python",
   "name": "python",
   "nbconvert_exporter": "python",
   "pygments_lexer": "ipython2",
   "version": "2.7.11"
  }
 },
 "nbformat": 4,
 "nbformat_minor": 0
}
